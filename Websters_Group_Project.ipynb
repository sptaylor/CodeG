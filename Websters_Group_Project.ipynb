{
 "cells": [
  {
   "cell_type": "code",
   "execution_count": 1,
   "metadata": {},
   "outputs": [
    {
     "name": "stdout",
     "output_type": "stream",
     "text": [
      "Overwriting hello_web.py\n"
     ]
    }
   ],
   "source": [
    "%%writefile hello_web.py\n",
    "\n",
    "from flask import Flask\n",
    "import bz2\n",
    "from itertools import permutations\n",
    "\n",
    "\n",
    "app = Flask(__name__)\n",
    "\n",
    "file = bz2.open('PythonCharmersData/websters_dictionary.txt.bz2')\n",
    "data = file.read()\n",
    "websters = data.decode('latin-1')\n",
    "    \n",
    "def get_dictionary_words():\n",
    "    \"\"\"\n",
    "    Get all words from dictionary\n",
    "    Input: None\n",
    "    Output: set of dictionary words\n",
    "    \"\"\"\n",
    "    return set(websters.upper().split())\n",
    "\n",
    "\n",
    "def get_permutations(string):\n",
    "    \"\"\"\n",
    "    Take in a string and get all permutations/anagrams of string\n",
    "    Input: string\n",
    "    Output: set of permutations/anagrams\n",
    "    \"\"\"\n",
    "    perm = set()\n",
    "    tuples = list(permutations(string))\n",
    "    for tup in tuples:\n",
    "        word = ''.join(tup)\n",
    "        perm.add(word)\n",
    "    return perm\n",
    "\n",
    "\n",
    "def test_words_in_dict(word_set, dictionary):\n",
    "    \"\"\"\n",
    "    Take in a set of string permutations and output ones that are English words (found in English dictionary)\n",
    "    Input: set of permutations\n",
    "    Ouptut: set of words\n",
    "    \"\"\"\n",
    "    answer = set()\n",
    "    for word in word_set:\n",
    "        if word in dictionary:\n",
    "            answer.add(word)\n",
    "    return answer\n",
    "\n",
    "\n",
    "dictionary = get_dictionary_words()\n",
    "\n",
    "@app.route('/<string>')\n",
    "def index(string):\n",
    "    word_set = get_permutations(string)\n",
    "    dict_words = test_words_in_dict(word_set, dictionary)\n",
    "    return str(dict_words)"
   ]
  },
  {
   "cell_type": "code",
   "execution_count": null,
   "metadata": {},
   "outputs": [],
   "source": []
  }
 ],
 "metadata": {
  "kernelspec": {
   "display_name": "py37",
   "language": "python",
   "name": "py37"
  },
  "language_info": {
   "codemirror_mode": {
    "name": "ipython",
    "version": 3
   },
   "file_extension": ".py",
   "mimetype": "text/x-python",
   "name": "python",
   "nbconvert_exporter": "python",
   "pygments_lexer": "ipython3",
   "version": "3.7.2"
  }
 },
 "nbformat": 4,
 "nbformat_minor": 2
}
